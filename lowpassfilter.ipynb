{
 "cells": [
  {
   "cell_type": "code",
   "execution_count": null,
   "id": "9dcd5abc",
   "metadata": {},
   "outputs": [],
   "source": [
    "import cv2\n",
    "import numpy as np\n",
    "import matplotlib.pyplot as plt\n",
    "\n",
    "# Load grayscale image\n",
    "img = cv2.imread('input/Rishad-pic.jpg', cv2.IMREAD_GRAYSCALE)\n",
    "\n",
    "# Fourier Transform\n",
    "f = np.fft.fft2(img)\n",
    "fshift = np.fft.fftshift(f)\n",
    "\n",
    "# Create Ideal Low-Pass Filter (ILPF) mask\n",
    "rows, cols = img.shape\n",
    "crow, ccol = rows // 2, cols // 2\n",
    "radius = 30  # Cutoff frequency (adjust for more/less blur)\n",
    "mask = np.zeros((rows, cols), np.uint8)\n",
    "cv2.circle(mask, (ccol, crow), radius, 1, thickness=-1)\n",
    "\n",
    "# Apply mask in frequency domain\n",
    "fshift_filtered = fshift * mask\n",
    "\n",
    "# Inverse Fourier Transform to get blurred image\n",
    "f_ishift = np.fft.ifftshift(fshift_filtered)\n",
    "img_back = np.fft.ifft2(f_ishift)\n",
    "img_back = np.abs(img_back)\n",
    "img_back = np.clip(img_back, 0, 255).astype(np.uint8)\n",
    "\n",
    "# Display results\n",
    "plt.figure(figsize=(10, 4))\n",
    "plt.subplot(1, 2, 1)\n",
    "plt.imshow(img, cmap='gray')\n",
    "plt.title('Original')\n",
    "plt.axis('off')\n",
    "\n",
    "plt.subplot(1, 2, 2)\n",
    "plt.imshow(img_back, cmap='gray')\n",
    "plt.title('ILPF Blurred')\n",
    "plt.axis('off')\n",
    "\n",
    "plt.tight_layout()\n",
    "plt.show()"
   ]
  }
 ],
 "metadata": {
  "kernelspec": {
   "display_name": ".venv",
   "language": "python",
   "name": "python3"
  },
  "language_info": {
   "codemirror_mode": {
    "name": "ipython",
    "version": 3
   },
   "file_extension": ".py",
   "mimetype": "text/x-python",
   "name": "python",
   "nbconvert_exporter": "python",
   "pygments_lexer": "ipython3",
   "version": "3.13.0"
  }
 },
 "nbformat": 4,
 "nbformat_minor": 5
}
