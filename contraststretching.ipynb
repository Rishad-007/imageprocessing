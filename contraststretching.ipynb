{
 "cells": [
  {
   "cell_type": "code",
   "execution_count": null,
   "id": "0d002a43",
   "metadata": {},
   "outputs": [],
   "source": [
    "import cv2\n",
    "import numpy as np\n",
    "import matplotlib.pyplot as plt\n",
    "\n",
    "# Load grayscale image\n",
    "img = cv2.imread('input/Rishad-pic.jpg', cv2.IMREAD_GRAYSCALE)\n",
    "\n",
    "# Simulate a low-contrast image (optional, for demonstration)\n",
    "low_contrast = cv2.normalize(img, None, 100, 150, cv2.NORM_MINMAX)\n",
    "\n",
    "# Linear contrast stretching\n",
    "min_val = np.min(low_contrast)\n",
    "max_val = np.max(low_contrast)\n",
    "stretched = ((low_contrast - min_val) / (max_val - min_val) * 255).astype(np.uint8)\n",
    "\n",
    "# Display original (low-contrast) and stretched images\n",
    "plt.figure(figsize=(10, 5))\n",
    "plt.subplot(1, 2, 1)\n",
    "plt.imshow(low_contrast, cmap='gray')\n",
    "plt.title('Low-Contrast Image')\n",
    "plt.axis('off')\n",
    "\n",
    "plt.subplot(1, 2, 2)\n",
    "plt.imshow(stretched, cmap='gray')\n",
    "plt.title('Contrast Stretched')\n",
    "plt.axis('off')\n",
    "\n",
    "plt.tight_layout()\n",
    "plt.show()"
   ]
  }
 ],
 "metadata": {
  "kernelspec": {
   "display_name": ".venv",
   "language": "python",
   "name": "python3"
  },
  "language_info": {
   "codemirror_mode": {
    "name": "ipython",
    "version": 3
   },
   "file_extension": ".py",
   "mimetype": "text/x-python",
   "name": "python",
   "nbconvert_exporter": "python",
   "pygments_lexer": "ipython3",
   "version": "3.13.0"
  }
 },
 "nbformat": 4,
 "nbformat_minor": 5
}
