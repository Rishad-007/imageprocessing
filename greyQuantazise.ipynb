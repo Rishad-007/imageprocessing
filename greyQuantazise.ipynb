{
 "cells": [
  {
   "cell_type": "code",
   "execution_count": null,
   "id": "248c9f04",
   "metadata": {},
   "outputs": [],
   "source": [
    "import cv2\n",
    "import numpy as np\n",
    "import matplotlib.pyplot as plt"
   ]
  },
  {
   "cell_type": "code",
   "execution_count": null,
   "id": "30df0704",
   "metadata": {},
   "outputs": [],
   "source": [
    "img =cv2.imread('input/Rishad-pic.jpg')\n"
   ]
  },
  {
   "cell_type": "code",
   "execution_count": null,
   "id": "14f5ac1b",
   "metadata": {},
   "outputs": [],
   "source": [
    "def quantize(img, levels):\n",
    "    step= 256 // levels\n",
    "    quantized= (img // step)* step\n",
    "    return quantized\n",
    "\n",
    "levelsList=[2,4,8,16,256]\n",
    "\n",
    "quantized_imgs=[quantize(img,levels) for levels in levelsList]\n",
    "\n",
    "plt.figure(figsize=(15,5))\n",
    "plt.subplot(1,6,1)\n",
    "plt.imshow(img,cmap='gray')\n",
    "plt.title('Original Image')\n",
    "\n"
   ]
  },
  {
   "cell_type": "code",
   "execution_count": null,
   "id": "39811e2f",
   "metadata": {},
   "outputs": [],
   "source": [
    "for i, (levels, q_img) in enumerate(zip(levelsList, quantized_imgs)):\n",
    "    plt.subplot(1,6,i+2)\n",
    "    plt.imshow(q_img,cmap='gray')\n",
    "    plt.title(f'{levels} levels')\n",
    "    \n",
    "plt.tight_layout()\n",
    "plt.show()"
   ]
  },
  {
   "cell_type": "code",
   "execution_count": null,
   "id": "ce12e91c",
   "metadata": {},
   "outputs": [],
   "source": [
    "plt.imshow(quantized_imgs[0],cmap='gray')"
   ]
  }
 ],
 "metadata": {
  "kernelspec": {
   "display_name": ".venv",
   "language": "python",
   "name": "python3"
  },
  "language_info": {
   "codemirror_mode": {
    "name": "ipython",
    "version": 3
   },
   "file_extension": ".py",
   "mimetype": "text/x-python",
   "name": "python",
   "nbconvert_exporter": "python",
   "pygments_lexer": "ipython3",
   "version": "3.13.0"
  }
 },
 "nbformat": 4,
 "nbformat_minor": 5
}
