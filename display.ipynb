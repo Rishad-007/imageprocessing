{
 "cells": [
  {
   "cell_type": "code",
   "execution_count": null,
   "id": "6b4c23b3",
   "metadata": {},
   "outputs": [],
   "source": [
    "# Simple version for displayimage.py\n",
    "import cv2\n",
    "import matplotlib.pyplot as plt\n",
    "\n",
    "# Load color image\n",
    "color_img = cv2.imread(\"input/Rishad-pic.jpg\")\n",
    "color_img = cv2.cvtColor(color_img, cv2.COLOR_BGR2RGB)  # Convert BGR to RGB\n",
    "\n",
    "# Convert to grayscale\n",
    "gray_img = cv2.cvtColor(color_img, cv2.COLOR_RGB2GRAY)\n",
    "\n",
    "# Display both images side by side\n",
    "plt.figure(figsize=(10, 4))\n",
    "\n",
    "# Color image\n",
    "plt.subplot(1, 2, 1)\n",
    "plt.imshow(color_img)\n",
    "plt.title(\"Color Image\")\n",
    "plt.axis('off')\n",
    "\n",
    "# Grayscale image\n",
    "plt.subplot(1, 2, 2)\n",
    "plt.imshow(gray_img, cmap='gray')\n",
    "plt.title(\"Grayscale Image\")\n",
    "plt.axis('off')\n",
    "\n",
    "plt.show()\n",
    "\n",
    "# Print basic information\n",
    "print(\"Color image shape:\", color_img.shape)  # (height, width, channels)\n",
    "print(\"Grayscale image shape:\", gray_img.shape)  # (height, width)\n"
   ]
  },
  {
   "cell_type": "markdown",
   "id": "271b9dbf",
   "metadata": {},
   "source": [
    "my type"
   ]
  },
  {
   "cell_type": "code",
   "execution_count": null,
   "id": "940693f2",
   "metadata": {},
   "outputs": [],
   "source": [
    "import cv2\n",
    "import matplotlib.pyplot as plt"
   ]
  },
  {
   "cell_type": "code",
   "execution_count": null,
   "id": "0447e6e0",
   "metadata": {},
   "outputs": [],
   "source": [
    "img= cv2.imread(\"input/Rishad-pic.jpg\")\n",
    "col_img= cv2.cvtColor(img, cv2.COLOR_BGR2RGB)"
   ]
  },
  {
   "cell_type": "code",
   "execution_count": null,
   "id": "65a192cb",
   "metadata": {},
   "outputs": [],
   "source": [
    "R= col_img[:,:,0]\n",
    "G= col_img[:,:,1]\n",
    "B= col_img[:,:,2]\n",
    "gray_manual= 0.299*R + 0.587*G + 0.114*B\n",
    "#gray_manual= gray_manual.astype('uint8')\n",
    "plt.subplot(1,2,1)\n",
    "plt.imshow(gray_manual)"
   ]
  },
  {
   "cell_type": "code",
   "execution_count": null,
   "id": "00500046",
   "metadata": {},
   "outputs": [],
   "source": [
    "grey_img =cv2.cvtColor(col_img, cv2.COLOR_RGB2GRAY)\n",
    "\n",
    "plt.subplot(1,2,1)\n",
    "plt.imshow(col_img)\n",
    "plt.title(\"Color Image\")\n",
    "\n",
    "plt.subplot(1,2,2)\n",
    "plt.imshow(grey_img, cmap='gray')\n",
    "plt.title(\"Gray Image\")"
   ]
  }
 ],
 "metadata": {
  "kernelspec": {
   "display_name": ".venv",
   "language": "python",
   "name": "python3"
  },
  "language_info": {
   "codemirror_mode": {
    "name": "ipython",
    "version": 3
   },
   "file_extension": ".py",
   "mimetype": "text/x-python",
   "name": "python",
   "nbconvert_exporter": "python",
   "pygments_lexer": "ipython3",
   "version": "3.13.0"
  }
 },
 "nbformat": 4,
 "nbformat_minor": 5
}
