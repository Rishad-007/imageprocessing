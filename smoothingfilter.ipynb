{
 "cells": [
  {
   "cell_type": "code",
   "execution_count": null,
   "id": "239e4fd0",
   "metadata": {},
   "outputs": [],
   "source": [
    "import cv2\n",
    "import numpy as np\n",
    "import matplotlib.pyplot as plt\n",
    "\n",
    "# Load grayscale image\n",
    "img = cv2.imread('input/Rishad-pic.jpg', cv2.IMREAD_GRAYSCALE)\n",
    "\n",
    "# Function to apply averaging filter from scratch\n",
    "def mean_filter(img, ksize):\n",
    "    pad = ksize // 2\n",
    "    padded_img = np.pad(img, pad, mode='constant', constant_values=0)\n",
    "    output = np.zeros_like(img, dtype=np.float32)\n",
    "    for i in range(img.shape[0]):\n",
    "        for j in range(img.shape[1]):\n",
    "            region = padded_img[i:i+ksize, j:j+ksize]\n",
    "            output[i, j] = np.mean(region)\n",
    "    return output.astype(np.uint8)\n",
    "\n",
    "# Apply custom averaging filters\n",
    "smoothed_3x3 = mean_filter(img, 3)\n",
    "smoothed_5x5 = mean_filter(img, 5)\n",
    "\n",
    "# Display results\n",
    "plt.figure(figsize=(12, 4))\n",
    "plt.subplot(1, 3, 1)\n",
    "plt.imshow(img, cmap='gray')\n",
    "plt.title('Original')\n",
    "plt.axis('off')\n",
    "\n",
    "plt.subplot(1, 3, 2)\n",
    "plt.imshow(smoothed_3x3, cmap='gray')\n",
    "plt.title('Averaging 3x3 (Scratch)')\n",
    "plt.axis('off')\n",
    "\n",
    "plt.subplot(1, 3, 3)\n",
    "plt.imshow(smoothed_5x5, cmap='gray')\n",
    "plt.title('Averaging 5x5 (Scratch)')\n",
    "plt.axis('off')\n",
    "\n",
    "plt.tight_layout()\n",
    "plt.show()"
   ]
  }
 ],
 "metadata": {
  "kernelspec": {
   "display_name": ".venv",
   "language": "python",
   "name": "python3"
  },
  "language_info": {
   "codemirror_mode": {
    "name": "ipython",
    "version": 3
   },
   "file_extension": ".py",
   "mimetype": "text/x-python",
   "name": "python",
   "nbconvert_exporter": "python",
   "pygments_lexer": "ipython3",
   "version": "3.13.0"
  }
 },
 "nbformat": 4,
 "nbformat_minor": 5
}
