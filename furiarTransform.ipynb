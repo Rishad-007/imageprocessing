{
 "cells": [
  {
   "cell_type": "code",
   "execution_count": null,
   "id": "cc15ffa7",
   "metadata": {},
   "outputs": [],
   "source": [
    "import cv2\n",
    "import numpy as np\n",
    "import matplotlib.pyplot as plt\n",
    "\n",
    "# Load grayscale image\n",
    "img = cv2.imread('input/l7.jpg', cv2.IMREAD_GRAYSCALE)\n",
    "\n",
    "# Compute 2D Fourier Transform\n",
    "f = np.fft.fft2(img)\n",
    "fshift = np.fft.fftshift(f)  # Shift zero frequency to center\n",
    "magnitude_spectrum = 20 * np.log(np.abs(fshift) + 1)  # Log scaling for visibility\n",
    "\n",
    "# Display original image and magnitude spectrum\n",
    "plt.figure(figsize=(10, 4))\n",
    "plt.subplot(1, 2, 1)\n",
    "plt.imshow(img, cmap='gray')\n",
    "plt.title('Original Image')\n",
    "plt.axis('off')\n",
    "\n",
    "plt.subplot(1, 2, 2)\n",
    "plt.imshow(magnitude_spectrum, cmap='gray')\n",
    "plt.title('Magnitude Spectrum')\n",
    "plt.axis('off')\n",
    "\n",
    "plt.tight_layout()\n",
    "plt.show()"
   ]
  },
  {
   "cell_type": "code",
   "execution_count": null,
   "id": "4d7051a5",
   "metadata": {},
   "outputs": [],
   "source": [
    "import cv2\n",
    "import numpy as np\n",
    "import matplotlib.pyplot as plt\n",
    "\n",
    "# Load grayscale image\n",
    "img = cv2.imread('input/Rishad-pic.jpg', cv2.IMREAD_GRAYSCALE)\n",
    "\n",
    "# Compute 2D Fourier Transform\n",
    "f = np.fft.fft2(img)\n",
    "fshift = np.fft.fftshift(f)  # Shift zero frequency to center\n",
    "magnitude_spectrum = 20 * np.log(np.abs(fshift) + 1)  # Log scaling for visibility\n",
    "\n",
    "# Display original image and magnitude spectrum\n",
    "plt.figure(figsize=(10, 4))\n",
    "plt.subplot(1, 2, 1)\n",
    "plt.imshow(img, cmap='gray')\n",
    "plt.title('Original Image')\n",
    "plt.axis('off')\n",
    "\n",
    "plt.subplot(1, 2, 2)\n",
    "plt.imshow(magnitude_spectrum, cmap='gray')\n",
    "plt.title('Magnitude Spectrum')\n",
    "plt.axis('off')\n",
    "\n",
    "plt.tight_layout()\n",
    "plt.show()"
   ]
  }
 ],
 "metadata": {
  "kernelspec": {
   "display_name": ".venv",
   "language": "python",
   "name": "python3"
  },
  "language_info": {
   "codemirror_mode": {
    "name": "ipython",
    "version": 3
   },
   "file_extension": ".py",
   "mimetype": "text/x-python",
   "name": "python",
   "nbconvert_exporter": "python",
   "pygments_lexer": "ipython3",
   "version": "3.13.0"
  }
 },
 "nbformat": 4,
 "nbformat_minor": 5
}
