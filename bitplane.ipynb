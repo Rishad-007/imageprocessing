{
 "cells": [
  {
   "cell_type": "code",
   "execution_count": null,
   "id": "249acbf6",
   "metadata": {},
   "outputs": [],
   "source": [
    "import cv2\n",
    "import numpy as np\n",
    "import matplotlib.pyplot as plt"
   ]
  },
  {
   "cell_type": "code",
   "execution_count": null,
   "id": "a615b0ac",
   "metadata": {},
   "outputs": [],
   "source": [
    "img =cv2.imread('input/Rishad-pic.jpg')\n"
   ]
  },
  {
   "cell_type": "code",
   "execution_count": null,
   "id": "b561a4af",
   "metadata": {},
   "outputs": [],
   "source": [
    "bit_planes=[]\n",
    "for i in range(7, -1, -1):\n",
    "    bit_plane = (img >> i) & 1\n",
    "    bit_planes.append(bit_plane * 255)"
   ]
  },
  {
   "cell_type": "code",
   "execution_count": null,
   "id": "3efd9d4c",
   "metadata": {},
   "outputs": [],
   "source": [
    "# Display bit-planes\n",
    "plt.figure(figsize=(16, 4))\n",
    "for idx, plane in enumerate(bit_planes):\n",
    "    plt.subplot(1, 8, idx+1)\n",
    "    plt.imshow(plane, cmap='gray')\n",
    "    plt.title(f'Bit {7-idx}')\n",
    "    plt.axis('off')\n",
    "plt.tight_layout()\n",
    "plt.show()"
   ]
  }
 ],
 "metadata": {
  "kernelspec": {
   "display_name": ".venv",
   "language": "python",
   "name": "python3"
  },
  "language_info": {
   "codemirror_mode": {
    "name": "ipython",
    "version": 3
   },
   "file_extension": ".py",
   "mimetype": "text/x-python",
   "name": "python",
   "nbconvert_exporter": "python",
   "pygments_lexer": "ipython3",
   "version": "3.13.0"
  }
 },
 "nbformat": 4,
 "nbformat_minor": 5
}
