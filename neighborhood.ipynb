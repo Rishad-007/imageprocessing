{
 "cells": [
  {
   "cell_type": "code",
   "execution_count": null,
   "id": "70aa83d8",
   "metadata": {},
   "outputs": [],
   "source": [
    "import cv2\n",
    "import numpy as np\n",
    "import matplotlib.pyplot as plt\n",
    "\n",
    "# Load grayscale image\n",
    "img = cv2.imread('input/Rishad-pic.jpg', cv2.IMREAD_GRAYSCALE)\n",
    "\n",
    "# Choose a pixel (for example, center pixel)\n",
    "row, col = img.shape[0] // 2, img.shape[1] // 2\n",
    "\n",
    "# Get 4-neighbors (top, bottom, left, right)\n",
    "neighbors_4 = [\n",
    "    (row-1, col),   # top\n",
    "    (row+1, col),   # bottom\n",
    "    (row, col-1),   # left\n",
    "    (row, col+1)    # right\n",
    "]\n",
    "\n",
    "# Get 8-neighbors (including diagonals)\n",
    "neighbors_8 = [\n",
    "    (row-1, col-1), # top-left\n",
    "    (row-1, col),   # top\n",
    "    (row-1, col+1), # top-right\n",
    "    (row, col-1),   # left\n",
    "    (row, col+1),   # right\n",
    "    (row+1, col-1), # bottom-left\n",
    "    (row+1, col),   # bottom\n",
    "    (row+1, col+1)  # bottom-right\n",
    "]\n",
    "\n",
    "print(\"Pixel location:\", (row, col))\n",
    "print(\"4-neighbors:\")\n",
    "for r, c in neighbors_4:\n",
    "    print(f\"({r}, {c}) -> {img[r, c]}\")\n",
    "\n",
    "print(\"\\n8-neighbors:\")\n",
    "for r, c in neighbors_8:\n",
    "    print(f\"({r}, {c}) -> {img[r, c]}\")\n",
    "\n",
    "# Visualize the pixel and its neighbors\n",
    "vis = cv2.cvtColor(img, cv2.COLOR_GRAY2BGR)\n",
    "vis[row, col] = [0, 0, 255]  # center pixel in red\n",
    "for r, c in neighbors_8:\n",
    "    vis[r, c] = [0, 255, 0]  # neighbors in green\n",
    "\n",
    "plt.imshow(vis)\n",
    "plt.title(\"Center Pixel (Red) and 8-Neighbors (Green)\")\n",
    "plt.axis('off')\n",
    "plt.show()"
   ]
  }
 ],
 "metadata": {
  "kernelspec": {
   "display_name": ".venv",
   "language": "python",
   "name": "python3"
  },
  "language_info": {
   "codemirror_mode": {
    "name": "ipython",
    "version": 3
   },
   "file_extension": ".py",
   "mimetype": "text/x-python",
   "name": "python",
   "nbconvert_exporter": "python",
   "pygments_lexer": "ipython3",
   "version": "3.13.0"
  }
 },
 "nbformat": 4,
 "nbformat_minor": 5
}
