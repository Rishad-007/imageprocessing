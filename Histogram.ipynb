{
 "cells": [
  {
   "cell_type": "code",
   "execution_count": null,
   "id": "1e794323",
   "metadata": {},
   "outputs": [],
   "source": [
    "import cv2\n",
    "import numpy as np\n",
    "import matplotlib.pyplot as plt\n",
    "img =cv2.imread('input/Rishad-pic.jpg')"
   ]
  },
  {
   "cell_type": "code",
   "execution_count": null,
   "id": "2ea5a0a6",
   "metadata": {},
   "outputs": [],
   "source": [
    "grey_image= cv2.cvtColor(img, cv2.COLOR_BGR2GRAY)\n",
    "plt.figure(figsize=(12,6))\n",
    "plt.subplot(2,2,1)\n",
    "plt.imshow(grey_image,cmap='gray')\n",
    "plt.title('Original Grey Image')"
   ]
  },
  {
   "cell_type": "code",
   "execution_count": null,
   "id": "17f8d3bb",
   "metadata": {},
   "outputs": [],
   "source": [
    "plt.subplot(2,2,2)\n",
    "plt.hist(img.ravel(), bins=256, range=[0,256], color='black')\n",
    "plt.title('Histogram of Original Image')"
   ]
  },
  {
   "cell_type": "code",
   "execution_count": null,
   "id": "1b240056",
   "metadata": {},
   "outputs": [],
   "source": [
    "img_eq= cv2.equalizeHist(grey_image)\n",
    "plt.subplot(2,2,3)\n",
    "plt.imshow(img_eq,cmap='gray')\n",
    "plt.title('Equalized Grey Image')\n",
    "\n",
    "plt.subplot(2,2,4   )\n",
    "plt.hist(img_eq.ravel(), bins=256, range=[0,256], color='black')\n",
    "plt.title('Histogram of Equalized Image')"
   ]
  }
 ],
 "metadata": {
  "kernelspec": {
   "display_name": ".venv",
   "language": "python",
   "name": "python3"
  },
  "language_info": {
   "codemirror_mode": {
    "name": "ipython",
    "version": 3
   },
   "file_extension": ".py",
   "mimetype": "text/x-python",
   "name": "python",
   "nbconvert_exporter": "python",
   "pygments_lexer": "ipython3",
   "version": "3.13.0"
  }
 },
 "nbformat": 4,
 "nbformat_minor": 5
}
