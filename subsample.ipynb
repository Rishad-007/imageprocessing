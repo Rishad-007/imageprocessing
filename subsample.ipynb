{
 "cells": [
  {
   "cell_type": "code",
   "execution_count": null,
   "id": "4d99c9c2",
   "metadata": {},
   "outputs": [],
   "source": [
    "import cv2\n",
    "import matplotlib.pyplot as plt\n"
   ]
  },
  {
   "cell_type": "code",
   "execution_count": null,
   "id": "4487e62d",
   "metadata": {},
   "outputs": [],
   "source": [
    "img = cv2.imread('input/Rishad-pic.jpg')\n",
    "\n",
    "img_2= img[::2, ::2]\n",
    "img_3= img[::4, ::4]\n",
    "img_4= img[::8, ::8]\n",
    "\n",
    "plt.subplot(1,3,1)\n",
    "plt.imshow(img_2)\n",
    "plt.subplot(1,3,2)\n",
    "plt.imshow(img_3)\n",
    "plt.subplot(1,3,3)\n",
    "plt.imshow(img_4)"
   ]
  }
 ],
 "metadata": {
  "kernelspec": {
   "display_name": ".venv",
   "language": "python",
   "name": "python3"
  },
  "language_info": {
   "codemirror_mode": {
    "name": "ipython",
    "version": 3
   },
   "file_extension": ".py",
   "mimetype": "text/x-python",
   "name": "python",
   "nbconvert_exporter": "python",
   "pygments_lexer": "ipython3",
   "version": "3.13.0"
  }
 },
 "nbformat": 4,
 "nbformat_minor": 5
}
