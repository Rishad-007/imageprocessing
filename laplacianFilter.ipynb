{
 "cells": [
  {
   "cell_type": "code",
   "execution_count": null,
   "id": "58e2bff0",
   "metadata": {},
   "outputs": [],
   "source": [
    "import cv2\n",
    "import numpy as np\n",
    "import matplotlib.pyplot as plt\n",
    "\n",
    "# Load grayscale image\n",
    "img = cv2.imread('input/Rishad-pic.jpg', cv2.IMREAD_GRAYSCALE)\n",
    "\n",
    "# Apply Laplacian filter to detect edges\n",
    "laplacian = cv2.Laplacian(img, cv2.CV_64F)\n",
    "laplacian_abs = cv2.convertScaleAbs(laplacian)\n",
    "\n",
    "# Sharpen the image by adding the Laplacian result to the original\n",
    "sharpened = cv2.addWeighted(img, 1, laplacian_abs, 1, 0)\n",
    "\n",
    "# Display original and sharpened images\n",
    "plt.figure(figsize=(12, 4))\n",
    "plt.subplot(1, 3, 1)\n",
    "plt.imshow(img, cmap='gray')\n",
    "plt.title('Original')\n",
    "plt.axis('off')\n",
    "\n",
    "plt.subplot(1, 3, 2)\n",
    "plt.imshow(laplacian_abs, cmap='gray')\n",
    "plt.title('Laplacian (Edges)')\n",
    "plt.axis('off')\n",
    "\n",
    "plt.subplot(1, 3, 3)\n",
    "plt.imshow(sharpened, cmap='gray')\n",
    "plt.title('Sharpened')\n",
    "plt.axis('off')\n",
    "\n",
    "plt.tight_layout()\n",
    "plt.show()"
   ]
  }
 ],
 "metadata": {
  "kernelspec": {
   "display_name": ".venv",
   "language": "python",
   "name": "python3"
  },
  "language_info": {
   "codemirror_mode": {
    "name": "ipython",
    "version": 3
   },
   "file_extension": ".py",
   "mimetype": "text/x-python",
   "name": "python",
   "nbconvert_exporter": "python",
   "pygments_lexer": "ipython3",
   "version": "3.13.0"
  }
 },
 "nbformat": 4,
 "nbformat_minor": 5
}




{
import cv2
import numpy as np
import matplotlib.pyplot as plt

# Load a grayscale image
img = cv2.imread('input/Rishad-pic.jpg', cv2.IMREAD_GRAYSCALE)

# Apply Laplacian filter (use cv2.CV_64F to avoid clipping negative values)
laplacian = cv2.Laplacian(img, cv2.CV_64F)
laplacian = np.uint8(np.absolute(laplacian))  # Convert to 8-bit for visualization

# Sharpen the image: Original + Laplacian
sharpened = cv2.add(img, laplacian)

# Display results
titles = ['Original Image', 'Laplacian (Edges)', 'Sharpened Image']
images = [img, laplacian, sharpened]

plt.figure(figsize=(12, 4))
for i in range(3):
    plt.subplot(1, 3, i+1)
    plt.imshow(images[i], cmap='gray')
    plt.title(titles[i])
    plt.axis('off')
plt.tight_layout()
plt.show()

}
